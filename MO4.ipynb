{
 "cells": [
  {
   "cell_type": "code",
   "execution_count": 11,
   "id": "5c13053d",
   "metadata": {},
   "outputs": [
    {
     "name": "stdout",
     "output_type": "stream",
     "text": [
      "Mutual Information between X and Y: 0.4310161254873959\n"
     ]
    }
   ],
   "source": [
    "# C2 MI\n",
    "\n",
    "import numpy as np\n",
    "\n",
    "# Define specific marginal probabilities for each variable\n",
    "p_x1 = 0.3  # Probability of X being 1\n",
    "p_y1 = 0.6  # Probability of Y being 1\n",
    "\n",
    "# Define joint probabilities for different combinations\n",
    "p_x1y1 = 0.2  # Probability of both X and Y being 1\n",
    "p_x0y0 = 0.1  # Probability of both X and Y being 0\n",
    "p_x1y0 = 0.4  # Probability of X being 1 and Y being 0\n",
    "p_x0y1 = 0.3  # Probability of X being 0 and Y being 1\n",
    "\n",
    "def calculate_mutual_information(p_x1, p_y1, p_x0y0, p_x1y0, p_x0y1, p_x1y1):\n",
    "    \"\"\"\n",
    "    Calculate mutual information given marginal probabilities of x and y being 1,\n",
    "    and their joint probabilities of various combinations.\n",
    "    \"\"\"\n",
    "    # Calculate marginal probabilities of x and y being 0\n",
    "    p_x0 = 1 - p_x1\n",
    "    p_y0 = 1 - p_y1\n",
    "    \n",
    "    # Initialize mutual information\n",
    "    mi = 0\n",
    "    \n",
    "    # Calculate mutual information using the formula\n",
    "    for px, py, pxy in [(p_x1, p_y1, p_x1y1), (p_x0, p_y1, p_x0y1), (p_x1, p_y0, p_x1y0), (p_x0, p_y0, p_x0y0)]:\n",
    "        if pxy > 0:  # To avoid log(0)\n",
    "            mi += pxy * np.log2(pxy / (px * py))\n",
    "    \n",
    "    return mi\n",
    "\n",
    "# Calculate mutual information\n",
    "mutual_information = calculate_mutual_information(p_x1, p_y1, p_x0y0, p_x1y0, p_x0y1, p_x1y1)\n",
    "print(\"Mutual Information between X and Y:\", mutual_information)\n",
    "\n"
   ]
  },
  {
   "cell_type": "code",
   "execution_count": 12,
   "id": "37482565",
   "metadata": {},
   "outputs": [
    {
     "name": "stdout",
     "output_type": "stream",
     "text": [
      "Entropy of X: 0.8812908992306927 bits\n",
      "Entropy of Y: 0.9709505944546686 bits\n",
      "Sum of Entropies: 1.8522414936853613 bits\n",
      "Coherence of the C2 group: 1.303270779661005 bits per bit\n"
     ]
    }
   ],
   "source": [
    "# Coherence of the C2 group\n",
    "\n",
    "import math\n",
    "\n",
    "# Probabilities\n",
    "p_x1 = 0.3  # Probability of X being 1\n",
    "p_y1 = 0.6  # Probability of Y being 1\n",
    "\n",
    "# Calculate entropy for X\n",
    "h_x = -p_x1 * math.log2(p_x1) - (1 - p_x1) * math.log2(1 - p_x1)\n",
    "\n",
    "# Calculate entropy for Y\n",
    "h_y = -p_y1 * math.log2(p_y1) - (1 - p_y1) * math.log2(1 - p_y1)\n",
    "\n",
    "# Sum of entropies\n",
    "sum_entropies = h_x + h_y\n",
    "\n",
    "#Coherence\n",
    "coherence=sum_entropies/(sum_entropies - mutual_information)\n",
    "\n",
    "print(f\"Entropy of X: {h_x} bits\")\n",
    "print(f\"Entropy of Y: {h_y} bits\")\n",
    "print(f\"Sum of Entropies: {sum_entropies} bits\")\n",
    "print(f\"Coherence of the C2 group: {coherence} bits per bit\")\n",
    "\n"
   ]
  },
  {
   "cell_type": "code",
   "execution_count": 13,
   "id": "c88a7a77",
   "metadata": {},
   "outputs": [
    {
     "name": "stdout",
     "output_type": "stream",
     "text": [
      "Mutual Information between X and Y per unit time: 0.21550806274369794 bits per second\n"
     ]
    }
   ],
   "source": [
    "# C2 MI/t from X to Y\n",
    "\n",
    "import numpy as np\n",
    "\n",
    "# Define specific marginal probabilities for each variable\n",
    "p_x1 = 0.3  # Probability of X being 1\n",
    "p_y1 = 0.6  # Probability of Y being 1\n",
    "\n",
    "# Define joint probabilities for different combinations\n",
    "p_x1y1 = 0.2  # Probability of both X and Y being 1\n",
    "p_x0y0 = 0.1  # Probability of both X and Y being 0\n",
    "p_x1y0 = 0.4  # Probability of X being 1 and Y being 0\n",
    "p_x0y1 = 0.3  # Probability of X being 0 and Y being 1\n",
    "\n",
    "\n",
    "# Time t in seconds\n",
    "t = 2\n",
    "\n",
    "def calculate_mutual_information_per_time(p_x1, p_y1, p_x0y0, p_x1y0, p_x0y1, p_x1y1, t):\n",
    "    \"\"\"\n",
    "    Calculate mutual information per unit time given marginal probabilities of x and y being 1,\n",
    "    and their joint probabilities of various combinations.\n",
    "    \"\"\"\n",
    "    # Calculate marginal probabilities of x and y being 0\n",
    "    p_x0 = 1 - p_x1\n",
    "    p_y0 = 1 - p_y1\n",
    "    \n",
    "    # Initialize mutual information per time\n",
    "    mi_per_t = 0\n",
    "\n",
    "    # Calculate mutual information per unit time using the formula\n",
    "    for px, py, pxy in [(p_x1, p_y1, p_x1y1), (p_x0, p_y1, p_x0y1), (p_x1, p_y0, p_x1y0), (p_x0, p_y0, p_x0y0)]:\n",
    "        if pxy > 0:  # To avoid log(0)\n",
    "            mi_per_t += (pxy * np.log2(pxy / (px * py))) / t\n",
    "    \n",
    "    return mi_per_t\n",
    "\n",
    "# Calculate mutual information per unit time\n",
    "mutual_information_per_time_XY = calculate_mutual_information_per_time(p_x1, p_y1, p_x0y0, p_x1y0, p_x0y1, p_x1y1, t)\n",
    "print(\"Mutual Information between X and Y per unit time:\", mutual_information_per_time_XY, \"bits per second\")\n",
    "\n"
   ]
  },
  {
   "cell_type": "code",
   "execution_count": 14,
   "id": "62172d80",
   "metadata": {},
   "outputs": [
    {
     "name": "stdout",
     "output_type": "stream",
     "text": [
      "Mutual Information between X and Y per unit time: 0.21550806274369794 bits per second\n"
     ]
    }
   ],
   "source": [
    "# C2 MI/T FROM Y TO X\n",
    "\n",
    "import numpy as np\n",
    "\n",
    "# Define specific marginal probabilities for each variable\n",
    "p_x1 = 0.3  # Probability of X being 1\n",
    "p_y1 = 0.6  # Probability of Y being 1\n",
    "\n",
    "# Define joint probabilities for different combinations\n",
    "p_x1y1 = 0.2  # Probability of both X and Y being 1\n",
    "p_x0y0 = 0.1  # Probability of both X and Y being 0\n",
    "p_x1y0 = 0.4  # Probability of X being 1 and Y being 0\n",
    "p_x0y1 = 0.3  # Probability of X being 0 and Y being 1\n",
    "\n",
    "# Time t in seconds\n",
    "\n",
    "t = 2\n",
    "\n",
    "def calculate_mutual_information_per_time(p_x1, p_y1, p_x0y0, p_x1y0, p_x0y1, p_x1y1, t):\n",
    "    \"\"\"\n",
    "    Calculate mutual information per unit time given marginal probabilities of x and y being 1,\n",
    "    and their joint probabilities of various combinations.\n",
    "    \"\"\"\n",
    "    # Calculate marginal probabilities of x and y being 0\n",
    "    p_x0 = 1 - p_x1\n",
    "    p_y0 = 1 - p_y1\n",
    "    \n",
    "    # Initialize mutual information per time\n",
    "    mi_per_t = 0\n",
    "\n",
    "    # Calculate mutual information per unit time using the formula\n",
    "    for px, py, pxy in [(p_x1, p_y1, p_x1y1), (p_x0, p_y1, p_x0y1), (p_x1, p_y0, p_x1y0), (p_x0, p_y0, p_x0y0)]:\n",
    "        if pxy > 0:  # To avoid log(0)\n",
    "            mi_per_t += (pxy * np.log2(pxy / (px * py))) / t\n",
    "    \n",
    "    return mi_per_t\n",
    "\n",
    "# Calculate mutual information per unit time\n",
    "mutual_information_per_time_YX = calculate_mutual_information_per_time(p_x1, p_y1, p_x0y0, p_x1y0, p_x0y1, p_x1y1, t)\n",
    "print(\"Mutual Information between X and Y per unit time:\", mutual_information_per_time_YX, \"bits per second\")\n",
    "\n"
   ]
  },
  {
   "cell_type": "code",
   "execution_count": 15,
   "id": "efd15490",
   "metadata": {},
   "outputs": [
    {
     "name": "stdout",
     "output_type": "stream",
     "text": [
      "Mutual Information per unit time of the C2 group: 0.4310161254873959 bits per second\n"
     ]
    }
   ],
   "source": [
    "#C2: MI/t(X;Y)+MI/t(Y;X)\n",
    "\n",
    "C2_MI_per_time=mutual_information_per_time_XY + mutual_information_per_time_YX\n",
    "print(\"Mutual Information per unit time of the C2 group:\", C2_MI_per_time, \"bits per second\")\n"
   ]
  },
  {
   "cell_type": "code",
   "execution_count": 16,
   "id": "b1af2601",
   "metadata": {},
   "outputs": [
    {
     "name": "stdout",
     "output_type": "stream",
     "text": [
      "Entropy of X per second: 0.44064544961534635 bits per second\n",
      "Entropy of Y per second: 0.4854752972273343 bits per second\n",
      "Sum of Entropies per second: 0.9261207468426806 bits per second\n",
      "Coherence of the C2 group: 1.8705556500513871 bits per bit\n"
     ]
    }
   ],
   "source": [
    "# Coherence of the C2 group in time\n",
    "\n",
    "import math\n",
    "\n",
    "# Time in seconds\n",
    "t_x=2\n",
    "t_y=2\n",
    "\n",
    "# Probabilities\n",
    "p_x1 = 0.3  # Probability of X being 1\n",
    "p_y1 = 0.6  # Probability of Y being 1\n",
    "\n",
    "# Calculate entropy for X\n",
    "h_x_t = (-p_x1 * math.log2(p_x1) - (1 - p_x1) * math.log2(1 - p_x1))/t_x\n",
    "\n",
    "# Calculate entropy for Y\n",
    "h_y_t = (-p_y1 * math.log2(p_y1) - (1 - p_y1) * math.log2(1 - p_y1))/t_y\n",
    "\n",
    "# Sum of entropies\n",
    "sum_entropies_time = h_x_t + h_y_t\n",
    "\n",
    "#Coherence\n",
    "coherence=sum_entropies_time/(sum_entropies_time - C2_MI_per_time)\n",
    "\n",
    "print(f\"Entropy of X per second: {h_x_t} bits per second\")\n",
    "print(f\"Entropy of Y per second: {h_y_t} bits per second\")\n",
    "print(f\"Sum of Entropies per second: {sum_entropies_time} bits per second\")\n",
    "print(f\"Coherence of the C2 group: {coherence} bits per bit\")"
   ]
  },
  {
   "cell_type": "code",
   "execution_count": null,
   "id": "c8677f22",
   "metadata": {},
   "outputs": [],
   "source": []
  }
 ],
 "metadata": {
  "kernelspec": {
   "display_name": "Python 3 (ipykernel)",
   "language": "python",
   "name": "python3"
  },
  "language_info": {
   "codemirror_mode": {
    "name": "ipython",
    "version": 3
   },
   "file_extension": ".py",
   "mimetype": "text/x-python",
   "name": "python",
   "nbconvert_exporter": "python",
   "pygments_lexer": "ipython3",
   "version": "3.11.4"
  }
 },
 "nbformat": 4,
 "nbformat_minor": 5
}
